{
 "cells": [
  {
   "cell_type": "code",
   "execution_count": 32,
   "metadata": {
    "collapsed": false
   },
   "outputs": [],
   "source": [
    "import json\n",
    "from collections import Counter\n",
    "\n",
    "import pandas as pd"
   ]
  },
  {
   "cell_type": "markdown",
   "metadata": {},
   "source": [
    "# Task 1"
   ]
  },
  {
   "cell_type": "code",
   "execution_count": 2,
   "metadata": {
    "collapsed": true
   },
   "outputs": [],
   "source": [
    "likes_df = pd.read_csv('train_likes.csv')"
   ]
  },
  {
   "cell_type": "code",
   "execution_count": 3,
   "metadata": {
    "collapsed": false,
    "scrolled": true
   },
   "outputs": [
    {
     "data": {
      "text/html": [
       "<div>\n",
       "<table border=\"1\" class=\"dataframe\">\n",
       "  <thead>\n",
       "    <tr style=\"text-align: right;\">\n",
       "      <th></th>\n",
       "      <th>user_id</th>\n",
       "      <th>item_id</th>\n",
       "      <th>channel</th>\n",
       "      <th>time</th>\n",
       "    </tr>\n",
       "  </thead>\n",
       "  <tbody>\n",
       "    <tr>\n",
       "      <th>0</th>\n",
       "      <td>612d8e8eef05acff3278c061ec10f704</td>\n",
       "      <td>7aa5d00445cb9d61d1739dd0df9a0a88</td>\n",
       "      <td>1f0e3dad99908345f7439f8ffabdffc4</td>\n",
       "      <td>1.389734e+09</td>\n",
       "    </tr>\n",
       "    <tr>\n",
       "      <th>1</th>\n",
       "      <td>71a7f1d1be96603971ba66e4a17e845c</td>\n",
       "      <td>5edaf734b432e5cc954a10b59cb97e70</td>\n",
       "      <td>ec5decca5ed3d6b8079e2e7e7bacc9f2</td>\n",
       "      <td>1.390459e+09</td>\n",
       "    </tr>\n",
       "    <tr>\n",
       "      <th>2</th>\n",
       "      <td>6eaa117728d50265e6b2ac24a80e04ae</td>\n",
       "      <td>8ad97d075fce19c2d182eb2a4539aa1c</td>\n",
       "      <td>98f13708210194c475687be6106a3b84</td>\n",
       "      <td>1.391064e+09</td>\n",
       "    </tr>\n",
       "    <tr>\n",
       "      <th>3</th>\n",
       "      <td>5d9db6ab742755197343505bccfad516</td>\n",
       "      <td>aa5f2ca699da42e467e550f9f071fb3f</td>\n",
       "      <td>98f13708210194c475687be6106a3b84</td>\n",
       "      <td>1.391053e+09</td>\n",
       "    </tr>\n",
       "    <tr>\n",
       "      <th>4</th>\n",
       "      <td>3000a163610654f1fa181e74136d2d35</td>\n",
       "      <td>8142d0e687c1c7a317ed9673db9f11a4</td>\n",
       "      <td>c74d97b01eae257e44aa9d5bade97baf</td>\n",
       "      <td>1.392381e+09</td>\n",
       "    </tr>\n",
       "  </tbody>\n",
       "</table>\n",
       "</div>"
      ],
      "text/plain": [
       "                            user_id                           item_id  \\\n",
       "0  612d8e8eef05acff3278c061ec10f704  7aa5d00445cb9d61d1739dd0df9a0a88   \n",
       "1  71a7f1d1be96603971ba66e4a17e845c  5edaf734b432e5cc954a10b59cb97e70   \n",
       "2  6eaa117728d50265e6b2ac24a80e04ae  8ad97d075fce19c2d182eb2a4539aa1c   \n",
       "3  5d9db6ab742755197343505bccfad516  aa5f2ca699da42e467e550f9f071fb3f   \n",
       "4  3000a163610654f1fa181e74136d2d35  8142d0e687c1c7a317ed9673db9f11a4   \n",
       "\n",
       "                            channel          time  \n",
       "0  1f0e3dad99908345f7439f8ffabdffc4  1.389734e+09  \n",
       "1  ec5decca5ed3d6b8079e2e7e7bacc9f2  1.390459e+09  \n",
       "2  98f13708210194c475687be6106a3b84  1.391064e+09  \n",
       "3  98f13708210194c475687be6106a3b84  1.391053e+09  \n",
       "4  c74d97b01eae257e44aa9d5bade97baf  1.392381e+09  "
      ]
     },
     "execution_count": 3,
     "metadata": {},
     "output_type": "execute_result"
    }
   ],
   "source": [
    "likes_df.head()"
   ]
  },
  {
   "cell_type": "code",
   "execution_count": 4,
   "metadata": {
    "collapsed": false
   },
   "outputs": [
    {
     "data": {
      "text/plain": [
       "106.05433746425167"
      ]
     },
     "execution_count": 4,
     "metadata": {},
     "output_type": "execute_result"
    }
   ],
   "source": [
    "likes_df.channel.value_counts().mean()"
   ]
  },
  {
   "cell_type": "code",
   "execution_count": 5,
   "metadata": {
    "collapsed": false
   },
   "outputs": [
    {
     "data": {
      "text/plain": [
       "False    20200\n",
       "True      3691\n",
       "Name: item_id, dtype: int64"
      ]
     },
     "execution_count": 5,
     "metadata": {},
     "output_type": "execute_result"
    }
   ],
   "source": [
    "(likes_df.item_id.value_counts() > 5).value_counts()"
   ]
  },
  {
   "cell_type": "markdown",
   "metadata": {},
   "source": [
    "### Ans"
   ]
  },
  {
   "cell_type": "markdown",
   "metadata": {},
   "source": [
    "106.05433746425167\n",
    "\n",
    "3691"
   ]
  },
  {
   "cell_type": "markdown",
   "metadata": {},
   "source": [
    "# Task 2"
   ]
  },
  {
   "cell_type": "code",
   "execution_count": 52,
   "metadata": {
    "collapsed": true
   },
   "outputs": [],
   "source": [
    "items_data = dict()\n",
    "for item in json.load(open('items.json')):\n",
    "    items_data[item['id']] = item"
   ]
  },
  {
   "cell_type": "code",
   "execution_count": 109,
   "metadata": {
    "collapsed": false
   },
   "outputs": [],
   "source": [
    "likes_for_genres = Counter()\n",
    "likes_for_no_genres = 0\n",
    "\n",
    "for item_id, likes in likes_df.item_id.value_counts().iteritems():\n",
    "    data = items_data.get(item_id, None)\n",
    "    if data is not None and 'genre' in data:\n",
    "        likes_for_genres[data['genre']] += likes\n",
    "    else:\n",
    "        likes_for_no_genres += likes"
   ]
  },
  {
   "cell_type": "markdown",
   "metadata": {},
   "source": [
    "-----"
   ]
  },
  {
   "cell_type": "code",
   "execution_count": 112,
   "metadata": {
    "collapsed": false
   },
   "outputs": [
    {
     "data": {
      "text/plain": [
       "1f0e3dad99908345f7439f8ffabdffc4    8348\n",
       "c74d97b01eae257e44aa9d5bade97baf    8057\n",
       "98f13708210194c475687be6106a3b84    6079\n",
       "1ff1de774005f8da13f42943881c655f    5853\n",
       "70efdf2ec9b086079795c442636b55fb    4619\n",
       "c0c7c76d30bd3dcaefc96f40275bdc0a    3257\n",
       "f90f2aca5c640289d0a29417bcb63a37    3037\n",
       "6f4922f45568161a8cdf4ad2299f6d23    2925\n",
       "4e732ced3463d06de0ca9a15b6153677    2528\n",
       "5c936263f3428a40227908d5a3847c0b    2483\n",
       "Name: channel, dtype: int64"
      ]
     },
     "execution_count": 112,
     "metadata": {},
     "output_type": "execute_result"
    }
   ],
   "source": [
    "likes_df.channel.value_counts()[:10]"
   ]
  },
  {
   "cell_type": "code",
   "execution_count": 113,
   "metadata": {
    "collapsed": false
   },
   "outputs": [],
   "source": [
    "likes_for_genres_by_channels = []\n",
    "likes_for_no_genres_by_channels = []\n",
    "\n",
    "for channel, channel_likes in likes_df.channel.value_counts()[:10].iteritems():\n",
    "    likes_for_genres_by_channel = Counter()\n",
    "    likes_for_no_genres_by_channel = 0\n",
    "    \n",
    "    for item_id, likes in likes_df[likes_df.channel == channel].item_id.value_counts().iteritems():\n",
    "        data = items_data.get(item_id, None)\n",
    "        if data is not None and 'genre' in data:\n",
    "            likes_for_genres_by_channel[data['genre']] += likes\n",
    "        else:\n",
    "            likes_for_no_genres_by_channel += likes\n",
    "            \n",
    "    likes_for_genres_by_channels.append((channel, likes_for_genres_by_channel))\n",
    "    likes_for_no_genres_by_channels.append((channel, likes_for_no_genres_by_channel))"
   ]
  },
  {
   "cell_type": "markdown",
   "metadata": {},
   "source": [
    "-----"
   ]
  },
  {
   "cell_type": "code",
   "execution_count": 135,
   "metadata": {
    "collapsed": false
   },
   "outputs": [
    {
     "name": "stdout",
     "output_type": "stream",
     "text": [
      "14007 28151 14237 5231 2494 6543 4383 1167 27 "
     ]
    }
   ],
   "source": [
    "for i in range(9):\n",
    "    print(likes_for_genres[i], end=' ')"
   ]
  },
  {
   "cell_type": "code",
   "execution_count": 144,
   "metadata": {
    "collapsed": false,
    "scrolled": false
   },
   "outputs": [
    {
     "name": "stdout",
     "output_type": "stream",
     "text": [
      "1f0e3dad99908345f7439f8ffabdffc4 1138 2913 1750 0 13 0 487 0 0 2047\n",
      "\n",
      "c74d97b01eae257e44aa9d5bade97baf 2364 1689 873 496 366 209 13 0 0 2047\n",
      "\n",
      "98f13708210194c475687be6106a3b84 1882 1256 1806 3 6 0 46 0 1 1079\n",
      "\n",
      "1ff1de774005f8da13f42943881c655f 73 157 23 111 70 3500 0 0 0 1919\n",
      "\n",
      "70efdf2ec9b086079795c442636b55fb 684 99 494 332 213 29 0 0 0 2768\n",
      "\n",
      "c0c7c76d30bd3dcaefc96f40275bdc0a 50 391 315 0 12 0 1095 0 0 1394\n",
      "\n",
      "f90f2aca5c640289d0a29417bcb63a37 507 281 76 71 0 0 13 0 21 2068\n",
      "\n",
      "6f4922f45568161a8cdf4ad2299f6d23 334 380 472 200 257 4 29 0 0 1249\n",
      "\n",
      "4e732ced3463d06de0ca9a15b6153677 31 1198 282 124 13 0 3 0 0 877\n",
      "\n",
      "5c936263f3428a40227908d5a3847c0b 1187 546 380 4 0 0 6 0 0 360\n",
      "\n"
     ]
    }
   ],
   "source": [
    "for i, it in enumerate(likes_for_genres_by_channels):\n",
    "    channel, genres_counter = it\n",
    "    print(channel, end=' ')\n",
    "    for j in range(9):\n",
    "        print(genres_counter[j], end=' ')\n",
    "    print(likes_for_no_genres_by_channels[i][1], end='')\n",
    "    print()\n",
    "    print()"
   ]
  },
  {
   "cell_type": "markdown",
   "metadata": {},
   "source": [
    "### Ans"
   ]
  },
  {
   "cell_type": "markdown",
   "metadata": {},
   "source": [
    "14007 28151 14237 5231 2494 6543 4383 1167 27 35011\n",
    "\n",
    "-----\n",
    "\n",
    "1f0e3dad99908345f7439f8ffabdffc4 1138 2913 1750 0 13 0 487 0 0 2047\n",
    "\n",
    "\n",
    "c74d97b01eae257e44aa9d5bade97baf 2364 1689 873 496 366 209 13 0 0 2047\n",
    "\n",
    "\n",
    "98f13708210194c475687be6106a3b84 1882 1256 1806 3 6 0 46 0 1 1079\n",
    "\n",
    "\n",
    "1ff1de774005f8da13f42943881c655f 73 157 23 111 70 3500 0 0 0 1919\n",
    "\n",
    "\n",
    "70efdf2ec9b086079795c442636b55fb 684 99 494 332 213 29 0 0 0 2768\n",
    "\n",
    "\n",
    "c0c7c76d30bd3dcaefc96f40275bdc0a 50 391 315 0 12 0 1095 0 0 1394\n",
    "\n",
    "\n",
    "f90f2aca5c640289d0a29417bcb63a37 507 281 76 71 0 0 13 0 21 2068\n",
    "\n",
    "\n",
    "6f4922f45568161a8cdf4ad2299f6d23 334 380 472 200 257 4 29 0 0 1249\n",
    "\n",
    "\n",
    "4e732ced3463d06de0ca9a15b6153677 31 1198 282 124 13 0 3 0 0 877\n",
    "\n",
    "\n",
    "5c936263f3428a40227908d5a3847c0b 1187 546 380 4 0 0 6 0 0 360\n"
   ]
  }
 ],
 "metadata": {
  "kernelspec": {
   "display_name": "Python 3",
   "language": "python",
   "name": "python3"
  },
  "language_info": {
   "codemirror_mode": {
    "name": "ipython",
    "version": 3
   },
   "file_extension": ".py",
   "mimetype": "text/x-python",
   "name": "python",
   "nbconvert_exporter": "python",
   "pygments_lexer": "ipython3",
   "version": "3.5.2"
  }
 },
 "nbformat": 4,
 "nbformat_minor": 0
}
