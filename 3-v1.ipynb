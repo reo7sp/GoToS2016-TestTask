{
 "cells": [
  {
   "cell_type": "code",
   "execution_count": 1,
   "metadata": {
    "collapsed": true
   },
   "outputs": [],
   "source": [
    "import json\n",
    "from functools import lru_cache\n",
    "\n",
    "import pandas as pd\n",
    "import numpy as np\n",
    "import sklearn as sk\n",
    "import sklearn.ensemble\n",
    "from progressbar import ProgressBar"
   ]
  },
  {
   "cell_type": "code",
   "execution_count": 2,
   "metadata": {
    "collapsed": true
   },
   "outputs": [],
   "source": [
    "likes_df = pd.read_csv('train_likes.csv')"
   ]
  },
  {
   "cell_type": "code",
   "execution_count": 3,
   "metadata": {
    "collapsed": false
   },
   "outputs": [],
   "source": [
    "items_data = dict()\n",
    "for item in json.load(open('items.json')):\n",
    "    items_data[item['id']] = item"
   ]
  },
  {
   "cell_type": "code",
   "execution_count": 4,
   "metadata": {
    "collapsed": false
   },
   "outputs": [
    {
     "data": {
      "text/html": [
       "<div>\n",
       "<table border=\"1\" class=\"dataframe\">\n",
       "  <thead>\n",
       "    <tr style=\"text-align: right;\">\n",
       "      <th></th>\n",
       "      <th>user_id</th>\n",
       "      <th>item_id</th>\n",
       "      <th>channel</th>\n",
       "      <th>time</th>\n",
       "    </tr>\n",
       "  </thead>\n",
       "  <tbody>\n",
       "    <tr>\n",
       "      <th>0</th>\n",
       "      <td>612d8e8eef05acff3278c061ec10f704</td>\n",
       "      <td>7aa5d00445cb9d61d1739dd0df9a0a88</td>\n",
       "      <td>1f0e3dad99908345f7439f8ffabdffc4</td>\n",
       "      <td>1.389734e+09</td>\n",
       "    </tr>\n",
       "    <tr>\n",
       "      <th>1</th>\n",
       "      <td>71a7f1d1be96603971ba66e4a17e845c</td>\n",
       "      <td>5edaf734b432e5cc954a10b59cb97e70</td>\n",
       "      <td>ec5decca5ed3d6b8079e2e7e7bacc9f2</td>\n",
       "      <td>1.390459e+09</td>\n",
       "    </tr>\n",
       "    <tr>\n",
       "      <th>2</th>\n",
       "      <td>6eaa117728d50265e6b2ac24a80e04ae</td>\n",
       "      <td>8ad97d075fce19c2d182eb2a4539aa1c</td>\n",
       "      <td>98f13708210194c475687be6106a3b84</td>\n",
       "      <td>1.391064e+09</td>\n",
       "    </tr>\n",
       "    <tr>\n",
       "      <th>3</th>\n",
       "      <td>5d9db6ab742755197343505bccfad516</td>\n",
       "      <td>aa5f2ca699da42e467e550f9f071fb3f</td>\n",
       "      <td>98f13708210194c475687be6106a3b84</td>\n",
       "      <td>1.391053e+09</td>\n",
       "    </tr>\n",
       "    <tr>\n",
       "      <th>4</th>\n",
       "      <td>3000a163610654f1fa181e74136d2d35</td>\n",
       "      <td>8142d0e687c1c7a317ed9673db9f11a4</td>\n",
       "      <td>c74d97b01eae257e44aa9d5bade97baf</td>\n",
       "      <td>1.392381e+09</td>\n",
       "    </tr>\n",
       "  </tbody>\n",
       "</table>\n",
       "</div>"
      ],
      "text/plain": [
       "                            user_id                           item_id  \\\n",
       "0  612d8e8eef05acff3278c061ec10f704  7aa5d00445cb9d61d1739dd0df9a0a88   \n",
       "1  71a7f1d1be96603971ba66e4a17e845c  5edaf734b432e5cc954a10b59cb97e70   \n",
       "2  6eaa117728d50265e6b2ac24a80e04ae  8ad97d075fce19c2d182eb2a4539aa1c   \n",
       "3  5d9db6ab742755197343505bccfad516  aa5f2ca699da42e467e550f9f071fb3f   \n",
       "4  3000a163610654f1fa181e74136d2d35  8142d0e687c1c7a317ed9673db9f11a4   \n",
       "\n",
       "                            channel          time  \n",
       "0  1f0e3dad99908345f7439f8ffabdffc4  1.389734e+09  \n",
       "1  ec5decca5ed3d6b8079e2e7e7bacc9f2  1.390459e+09  \n",
       "2  98f13708210194c475687be6106a3b84  1.391064e+09  \n",
       "3  98f13708210194c475687be6106a3b84  1.391053e+09  \n",
       "4  c74d97b01eae257e44aa9d5bade97baf  1.392381e+09  "
      ]
     },
     "execution_count": 4,
     "metadata": {},
     "output_type": "execute_result"
    }
   ],
   "source": [
    "likes_df.head()"
   ]
  },
  {
   "cell_type": "code",
   "execution_count": 5,
   "metadata": {
    "collapsed": false,
    "scrolled": true
   },
   "outputs": [
    {
     "data": {
      "text/plain": [
       "{'duration': -0.6535735882045764,\n",
       " 'f_106593': 1,\n",
       " 'f_114306': 2,\n",
       " 'f_122038': 1,\n",
       " 'f_122097': 1,\n",
       " 'f_125216': 1,\n",
       " 'f_127794': 1,\n",
       " 'f_131919': 1,\n",
       " 'f_137909': 1,\n",
       " 'f_143336': 1,\n",
       " 'f_153548': 1,\n",
       " 'f_161336': 1,\n",
       " 'f_173035': 1,\n",
       " 'f_173938': 1,\n",
       " 'f_174560': 1,\n",
       " 'f_177744': 1,\n",
       " 'f_180790': 1,\n",
       " 'f_183958': 1,\n",
       " 'f_192481': 1,\n",
       " 'f_193515': 1,\n",
       " 'f_196983': 1,\n",
       " 'f_205162': 1,\n",
       " 'f_35526': 1,\n",
       " 'f_38095': 1,\n",
       " 'f_61462': 1,\n",
       " 'f_63680': 1,\n",
       " 'f_64513': 1,\n",
       " 'f_68894': 1,\n",
       " 'f_96274': 2,\n",
       " 'genre': 2,\n",
       " 'id': '5edaf734b432e5cc954a10b59cb97e70',\n",
       " 'year': 0.13337536834806843}"
      ]
     },
     "execution_count": 5,
     "metadata": {},
     "output_type": "execute_result"
    }
   ],
   "source": [
    "items_data['5edaf734b432e5cc954a10b59cb97e70']"
   ]
  },
  {
   "cell_type": "markdown",
   "metadata": {},
   "source": [
    "-----"
   ]
  },
  {
   "cell_type": "code",
   "execution_count": 6,
   "metadata": {
    "collapsed": false
   },
   "outputs": [],
   "source": [
    "items_index = dict(zip(items_data.keys(), range(len(items_data))))"
   ]
  },
  {
   "cell_type": "code",
   "execution_count": 7,
   "metadata": {
    "collapsed": false
   },
   "outputs": [],
   "source": [
    "features_index = dict()\n",
    "for data in items_data.values():\n",
    "    for k in data.keys():\n",
    "        if k[0] == 'f':\n",
    "            features_index[k] = int(k[2:]) + 1"
   ]
  },
  {
   "cell_type": "code",
   "execution_count": 8,
   "metadata": {
    "collapsed": true
   },
   "outputs": [],
   "source": [
    "users = likes_df.user_id.unique()"
   ]
  },
  {
   "cell_type": "markdown",
   "metadata": {},
   "source": [
    "-----"
   ]
  },
  {
   "cell_type": "code",
   "execution_count": 9,
   "metadata": {
    "collapsed": false
   },
   "outputs": [],
   "source": [
    "items_matrix = np.zeros((len(items_index), len(features_index) + 1))\n",
    "\n",
    "for item, item_index in items_index.items():\n",
    "    data = items_data[item]\n",
    "    \n",
    "    items_matrix[item_index, 0] = data['genre']\n",
    "    for it in data:\n",
    "        if it[0] == 'f':\n",
    "            items_matrix[item_index, features_index[it]] = 1"
   ]
  },
  {
   "cell_type": "code",
   "execution_count": 10,
   "metadata": {
    "collapsed": false
   },
   "outputs": [
    {
     "data": {
      "text/plain": [
       "(138078, 213503)"
      ]
     },
     "execution_count": 10,
     "metadata": {},
     "output_type": "execute_result"
    }
   ],
   "source": [
    "items_matrix.shape"
   ]
  },
  {
   "cell_type": "code",
   "execution_count": null,
   "metadata": {
    "collapsed": true
   },
   "outputs": [],
   "source": []
  },
  {
   "cell_type": "code",
   "execution_count": 11,
   "metadata": {
    "collapsed": true
   },
   "outputs": [],
   "source": [
    "items_matrix_df = pd.DataFrame(items_matrix)"
   ]
  },
  {
   "cell_type": "code",
   "execution_count": 12,
   "metadata": {
    "collapsed": false
   },
   "outputs": [
    {
     "data": {
      "text/plain": [
       "11646"
      ]
     },
     "execution_count": 12,
     "metadata": {},
     "output_type": "execute_result"
    }
   ],
   "source": [
    "items_unpopularity_threshold = 100\n",
    "a = likes_df.item_id.value_counts()\n",
    "b = a < items_unpopularity_threshold\n",
    "unpopular_items = [items_index[it] for it in a[b].index if it in items_index]\n",
    "len(unpopular_items)"
   ]
  },
  {
   "cell_type": "code",
   "execution_count": null,
   "metadata": {
    "collapsed": false
   },
   "outputs": [],
   "source": [
    "items_matrix_df.drop(unpopular_items, axis=0)"
   ]
  },
  {
   "cell_type": "code",
   "execution_count": null,
   "metadata": {
    "collapsed": true
   },
   "outputs": [],
   "source": [
    "features_unpopularity_threshold = 100\n",
    "unpopular_features = []\n",
    "\n",
    "for feature, feature_index in features_index.items():\n",
    "    if items_matrix_df[feature_index].sum() < features_unpopularity_threshold:\n",
    "        unpopular_features.append(feature_index)\n",
    "\n",
    "items_matrix_df.drop(unpopular_features, axis=1, inplace=True)"
   ]
  },
  {
   "cell_type": "code",
   "execution_count": null,
   "metadata": {
    "collapsed": true
   },
   "outputs": [],
   "source": [
    "items_matrix = items_matrix_df.values"
   ]
  },
  {
   "cell_type": "code",
   "execution_count": null,
   "metadata": {
    "collapsed": true
   },
   "outputs": [],
   "source": [
    "items_matrix.shape"
   ]
  },
  {
   "cell_type": "markdown",
   "metadata": {},
   "source": [
    "-----"
   ]
  },
  {
   "cell_type": "code",
   "execution_count": 15,
   "metadata": {
    "collapsed": true
   },
   "outputs": [],
   "source": [
    "def get_train_data(user):\n",
    "    liked_items = set(likes_df[likes_df.user_id == user].item_id)\n",
    "    \n",
    "    X_batch = items_matrix\n",
    "    y_batch = np.zeros(len(items_index))\n",
    "    \n",
    "    for liked_item in liked_items:\n",
    "        liked_item_index = items_index.get(liked_item, None)\n",
    "        if liked_item_index is not None:\n",
    "            y_batch[liked_item_index] = 1\n",
    "        \n",
    "    return X_batch, y_batch"
   ]
  },
  {
   "cell_type": "code",
   "execution_count": 17,
   "metadata": {
    "collapsed": true
   },
   "outputs": [],
   "source": [
    "def create_predictor(user):\n",
    "    predictor = sk.ensemble.RandomForestClassifier()\n",
    "    \n",
    "    X_batch, y_batch = get_train_data(user)\n",
    "    predictor.fit(X_batch, y_batch)\n",
    "        \n",
    "    return predictor"
   ]
  },
  {
   "cell_type": "markdown",
   "metadata": {},
   "source": [
    "-----"
   ]
  },
  {
   "cell_type": "code",
   "execution_count": null,
   "metadata": {
    "collapsed": false,
    "scrolled": false
   },
   "outputs": [
    {
     "name": "stderr",
     "output_type": "stream",
     "text": [
      "\r",
      "  0% (    0 of 55863) |                  | Elapsed Time: 0:00:00 ETA:  --:--:--"
     ]
    },
    {
     "name": "stdout",
     "output_type": "stream",
     "text": [
      "1\n",
      "2\n"
     ]
    }
   ],
   "source": [
    "users_predictors = dict()\n",
    "bar = ProgressBar()\n",
    "for user in bar(users):\n",
    "    users_predictors[user] = create_predictor(user)"
   ]
  },
  {
   "cell_type": "code",
   "execution_count": null,
   "metadata": {
    "collapsed": true
   },
   "outputs": [],
   "source": []
  }
 ],
 "metadata": {
  "kernelspec": {
   "display_name": "Python 3",
   "language": "python",
   "name": "python3"
  },
  "language_info": {
   "codemirror_mode": {
    "name": "ipython",
    "version": 3
   },
   "file_extension": ".py",
   "mimetype": "text/x-python",
   "name": "python",
   "nbconvert_exporter": "python",
   "pygments_lexer": "ipython3",
   "version": "3.5.2"
  }
 },
 "nbformat": 4,
 "nbformat_minor": 0
}
